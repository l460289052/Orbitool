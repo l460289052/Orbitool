{
 "cells": [
  {
   "cell_type": "code",
   "execution_count": 1,
   "metadata": {},
   "outputs": [],
   "source": [
    "import numpy as np\n",
    "from datetime import datetime, timedelta\n",
    "from matplotlib import pyplot as plt\n",
    "import matplotlib.dates as mdates\n",
    "%matplotlib widget"
   ]
  },
  {
   "cell_type": "code",
   "execution_count": 2,
   "metadata": {},
   "outputs": [
    {
     "data": {
      "text/plain": [
       "array([['2019-11-16T08:35:24', '2019-11-16T14:02:44'],\n",
       "       ['2019-11-16T14:03:20', '2019-11-16T21:04:20'],\n",
       "       ['2019-11-16T21:05:22', '2019-11-17T08:34:39']],\n",
       "      dtype='datetime64[s]')"
      ]
     },
     "execution_count": 2,
     "metadata": {},
     "output_type": "execute_result"
    }
   ],
   "source": [
    "file_times = np.frombuffer(b'\\xcc\\xb4\\xcf]\\x00\\x00\\x00\\x00\\x84\\x01\\xd0]\\x00\\x00\\x00\\x00\\xa8\\x01\\xd0]\\x00\\x00\\x00\\x00Td\\xd0]\\x00\\x00\\x00\\x00\\x92d\\xd0]\\x00\\x00\\x00\\x00\\x1f\\x06\\xd1]\\x00\\x00\\x00\\x00',\n",
    "    dtype=\"datetime64[s]\").reshape((3, 2))\n",
    "file_times"
   ]
  },
  {
   "cell_type": "code",
   "execution_count": 15,
   "metadata": {},
   "outputs": [],
   "source": [
    "avg_starts = np.arange(np.datetime64(file_times[0, 0], 's'), file_times[-1, -1], np.timedelta64(1, 'h')) + np.timedelta64(5, 'm')\n",
    "avg_ends = avg_starts + np.timedelta64(40, 'm')\n",
    "avg_ends[-1] = min(avg_ends[-1], file_times[-1, -1])\n",
    "avg_length = avg_ends - avg_starts\n",
    "avg_height = np.ones(len(avg_starts), dtype=float)\n",
    "avg_bottom = np.zeros(len(avg_starts))"
   ]
  },
  {
   "cell_type": "code",
   "execution_count": 4,
   "metadata": {},
   "outputs": [
    {
     "data": {
      "text/plain": [
       "(array(['2019-11-16T08:35:24', '2019-11-16T14:03:20',\n",
       "        '2019-11-16T21:05:22'], dtype='datetime64[s]'),\n",
       " array([19640, 25260, 41357], dtype='timedelta64[s]'))"
      ]
     },
     "execution_count": 4,
     "metadata": {},
     "output_type": "execute_result"
    }
   ],
   "source": [
    "start_times = file_times[:, 0]\n",
    "length = file_times[:, 1] - start_times\n",
    "height = np.ones(len(file_times))\n",
    "bottom = np.zeros(len(file_times))\n",
    "start_times, length"
   ]
  },
  {
   "cell_type": "code",
   "execution_count": 19,
   "metadata": {},
   "outputs": [
    {
     "data": {
      "application/vnd.jupyter.widget-view+json": {
       "model_id": "96756c2f81784601bc5075672742961c",
       "version_major": 2,
       "version_minor": 0
      },
      "image/png": "[encoded data removed]",
      "text/html": [
       "\n",
       "            <div style=\"display: inline-block;\">\n",
       "                <div class=\"jupyter-widgets widget-label\" style=\"text-align: center;\">\n",
       "                    Figure\n",
       "                </div>\n",
       "                <img src='data:image/png;base64,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' width=600.0/>\n",
       "            </div>\n",
       "        "
      ],
      "text/plain": [
       "Canvas(toolbar=Toolbar(toolitems=[('Home', 'Reset original view', 'home', 'home'), ('Back', 'Back to previous …"
      ]
     },
     "metadata": {},
     "output_type": "display_data"
    }
   ],
   "source": [
    "plt.cla()\n",
    "plt.figure(figsize=(6,1.5))\n",
    "plt.axis(False)\n",
    "bar1 = plt.bar(start_times, height, length, bottom, color=\"#1f77b4\", align='edge', edgecolor='k', linewidth=2, label=\"file\")\n",
    "bar2 = plt.bar(avg_starts, avg_height*0.5, avg_length, avg_bottom, color='#00cc00', align='edge', edgecolor='k', linewidth=1, label=\"average period\")\n",
    "for i, (s, e) in enumerate(file_times):\n",
    "    plt.text(s, 1.1, s.astype(datetime).strftime((\"%y%m%d %H:%M:%S\")), horizontalalignment=\"left\")\n",
    "    # plt.text(e, -0.1, e.astype(datetime).strftime((\"%y%m%d %H:%M:%S\")), verticalalignment=\"top\", horizontalalignment=\"right\")\n",
    "    plt.text(s+(e-s)/2, -0.2,f\"file{i}\" , verticalalignment=\"top\", horizontalalignment=\"right\")\n",
    "\n",
    "\n",
    "plt.bar_label(bar2, [\"40m\"]*len(avg_starts))\n",
    "# plt.bar_label(bar1, [\"file1\", \"file2\"], fontsize=\"large\", fontweight=\"bold\", label_type=\"center\")\n",
    "\n",
    "plt.gca().xaxis.set_major_formatter(mdates.DateFormatter('%y%m%d %H'))\n",
    "plt.xticks(rotation=30)\n",
    "plt.ylim(-0.5, 2)\n",
    "plt.xlim(datetime(2019,11,16,8), datetime(2019,11,16,18))\n",
    "plt.legend(loc = \"upper right\", ncols=2, framealpha=0.5)\n",
    "# plt.tight_layout()\n",
    "plt.show()"
   ]
  }
 ],
 "metadata": {
  "kernelspec": {
   "display_name": "orbtdvlp",
   "language": "python",
   "name": "python3"
  },
  "language_info": {
   "codemirror_mode": {
    "name": "ipython",
    "version": 3
   },
   "file_extension": ".py",
   "mimetype": "text/x-python",
   "name": "python",
   "nbconvert_exporter": "python",
   "pygments_lexer": "ipython3",
   "version": "3.11.3"
  },
  "orig_nbformat": 4
 },
 "nbformat": 4,
 "nbformat_minor": 2
}
