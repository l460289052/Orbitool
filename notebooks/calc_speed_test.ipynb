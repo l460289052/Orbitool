{
 "cells": [
  {
   "cell_type": "code",
   "execution_count": 1,
   "metadata": {},
   "outputs": [],
   "source": [
    "import sys\n",
    "from pathlib import Path\n",
    "sys.path.append(str(Path(\"../\").absolute()))\n",
    "from Orbitool.utils.formula.calc_gen import CalculatorGenerator\n",
    "from Orbitool.utils.formula.calc import Calculator\n",
    "from Orbitool.utils.formula import Formula"
   ]
  },
  {
   "cell_type": "code",
   "execution_count": 2,
   "metadata": {},
   "outputs": [],
   "source": [
    "gen = CalculatorGenerator()\n",
    "gen.add_EI(\"O[18]\")\n",
    "gen.set_EI_num(\"O[18]\", 0, 3, True)\n",
    "gen.add_EI(\"N\")\n",
    "gen.set_EI_num(\"N\", 0, 5, False)\n",
    "f = Formula('C16H20O10O[18]2N3-')"
   ]
  },
  {
   "cell_type": "code",
   "execution_count": 3,
   "metadata": {},
   "outputs": [],
   "source": [
    "calc = gen.generate()"
   ]
  },
  {
   "cell_type": "code",
   "execution_count": 4,
   "metadata": {},
   "outputs": [
    {
     "data": {
      "text/plain": [
       "[Formula(\"C17H22O12O[18]N-\"), Formula(\"C16H20O10O[18]2N3-\")]"
      ]
     },
     "execution_count": 4,
     "metadata": {},
     "output_type": "execute_result"
    }
   ],
   "source": [
    "calc.get(f.mass(), charge=f.charge)"
   ]
  },
  {
   "cell_type": "code",
   "execution_count": 5,
   "metadata": {},
   "outputs": [
    {
     "name": "stdout",
     "output_type": "stream",
     "text": [
      "1.34 ms ± 127 µs per loop (mean ± std. dev. of 7 runs, 1,000 loops each)\n"
     ]
    }
   ],
   "source": [
    "%%timeit\n",
    "ret = list(calc.get(f.mass(), charge=f.charge))"
   ]
  },
  {
   "cell_type": "code",
   "execution_count": 6,
   "metadata": {},
   "outputs": [],
   "source": [
    "calc = gen.generate(Calculator)"
   ]
  },
  {
   "cell_type": "code",
   "execution_count": 7,
   "metadata": {},
   "outputs": [
    {
     "data": {
      "text/plain": [
       "[Formula(\"C17H22O12O[18]N-\"), Formula(\"C16H20O10O[18]2N3-\")]"
      ]
     },
     "execution_count": 7,
     "metadata": {},
     "output_type": "execute_result"
    }
   ],
   "source": [
    "list(calc.get(f.mass(), charge=f.charge))"
   ]
  },
  {
   "cell_type": "code",
   "execution_count": 10,
   "metadata": {},
   "outputs": [
    {
     "name": "stdout",
     "output_type": "stream",
     "text": [
      "17.2 ms ± 702 µs per loop (mean ± std. dev. of 7 runs, 100 loops each)\n"
     ]
    }
   ],
   "source": [
    "%%timeit\n",
    "ret = list(calc.get(f.mass(), charge=f.charge))"
   ]
  }
 ],
 "metadata": {
  "kernelspec": {
   "display_name": "orbitool",
   "language": "python",
   "name": "python3"
  },
  "language_info": {
   "codemirror_mode": {
    "name": "ipython",
    "version": 3
   },
   "file_extension": ".py",
   "mimetype": "text/x-python",
   "name": "python",
   "nbconvert_exporter": "python",
   "pygments_lexer": "ipython3",
   "version": "3.8.16"
  },
  "orig_nbformat": 4,
  "vscode": {
   "interpreter": {
    "hash": "0525a6269e81a63657a9eb7c94c92dd75b9857d3a5eb0bdb09f02ceef385a88e"
   }
  }
 },
 "nbformat": 4,
 "nbformat_minor": 2
}
