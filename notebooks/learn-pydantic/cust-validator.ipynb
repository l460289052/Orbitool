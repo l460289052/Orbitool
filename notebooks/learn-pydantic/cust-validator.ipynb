{
 "cells": [
  {
   "cell_type": "code",
   "execution_count": 26,
   "metadata": {},
   "outputs": [],
   "source": [
    "from pydantic import BaseModel, GetCoreSchemaHandler, TypeAdapter\n",
    "from pydantic_core import CoreSchema, core_schema\n",
    "from typing import Any"
   ]
  },
  {
   "cell_type": "code",
   "execution_count": 36,
   "metadata": {},
   "outputs": [
    {
     "name": "stdout",
     "output_type": "stream",
     "text": [
      "<class '__main__.CLS'> <class '__main__.CLS'> <pydantic._internal._schema_generation_shared.CallbackGetCoreSchemaHandler object at 0x0000028936934310>\n",
      "fn 123\n",
      "result 'int'\n",
      "fn '123'\n",
      "result 'str'\n",
      "fn 123.321\n",
      "result 1\n"
     ]
    }
   ],
   "source": [
    "\n",
    "class CLS(str):\n",
    "    @classmethod\n",
    "    def __get_pydantic_core_schema__(\n",
    "        cls, source_type, handler: GetCoreSchemaHandler\n",
    "    ):\n",
    "        print(cls, source_type, handler)\n",
    "        def fn(x)->int:\n",
    "            print(\"fn\", repr(x))\n",
    "            match x:\n",
    "                case int():\n",
    "                    return \"int\"\n",
    "                case str():\n",
    "                    return \"str\"\n",
    "                case _:\n",
    "                    return 1\n",
    "        return core_schema.no_info_before_validator_function(fn, handler(Any))\n",
    "        \n",
    "ta = TypeAdapter(CLS)\n",
    "val = lambda x: print(\"result\",repr(ta.validate_python(x)))\n",
    "val(123)\n",
    "val(\"123\")\n",
    "val(123.321)"
   ]
  },
  {
   "cell_type": "code",
   "execution_count": 15,
   "metadata": {},
   "outputs": [
    {
     "name": "stdout",
     "output_type": "stream",
     "text": [
      "<class '__main__.Username'> <pydantic._internal._schema_generation_shared.CallbackGetCoreSchemaHandler object at 0x00000289376C6D90>\n",
      "123\n",
      "123\n"
     ]
    }
   ],
   "source": [
    "from typing import Any\n",
    "\n",
    "from pydantic_core import CoreSchema, core_schema\n",
    "\n",
    "from pydantic import GetCoreSchemaHandler, TypeAdapter\n",
    "\n",
    "\n",
    "class Username(str):\n",
    "    @classmethod\n",
    "    def __get_pydantic_core_schema__(\n",
    "        cls, source_type: Any, handler: GetCoreSchemaHandler\n",
    "    ) -> CoreSchema:\n",
    "        print(source_type, handler)\n",
    "        \n",
    "        return core_schema.no_info_after_validator_function(int, handler(int))\n",
    "\n",
    "\n",
    "ta = TypeAdapter(Username)\n",
    "res = ta.validate_python('123')\n",
    "print(repr(res))\n",
    "res = ta.validate_python(123)\n",
    "print(repr(res))\n"
   ]
  }
 ],
 "metadata": {
  "kernelspec": {
   "display_name": "orbtdvlp",
   "language": "python",
   "name": "python3"
  },
  "language_info": {
   "codemirror_mode": {
    "name": "ipython",
    "version": 3
   },
   "file_extension": ".py",
   "mimetype": "text/x-python",
   "name": "python",
   "nbconvert_exporter": "python",
   "pygments_lexer": "ipython3",
   "version": "3.11.3"
  },
  "orig_nbformat": 4
 },
 "nbformat": 4,
 "nbformat_minor": 2
}
