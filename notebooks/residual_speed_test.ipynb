{
 "cells": [
  {
   "cell_type": "code",
   "execution_count": 5,
   "source": [
    "import math\r\n",
    "import numpy as np"
   ],
   "outputs": [],
   "metadata": {}
  },
  {
   "cell_type": "code",
   "execution_count": 6,
   "source": [
    "def func(mz, a, mu, sigma):\r\n",
    "    return a/(math.sqrt(2*math.pi)*sigma)*np.exp(-0.5*np.power((mz-mu)/sigma,2))\r\n",
    "func(np.arange(10), 1, 1, 1)"
   ],
   "outputs": [
    {
     "output_type": "execute_result",
     "data": {
      "text/plain": [
       "array([2.41970725e-01, 3.98942280e-01, 2.41970725e-01, 5.39909665e-02,\n",
       "       4.43184841e-03, 1.33830226e-04, 1.48671951e-06, 6.07588285e-09,\n",
       "       9.13472041e-12, 5.05227108e-15])"
      ]
     },
     "metadata": {},
     "execution_count": 6
    }
   ],
   "metadata": {}
  },
  {
   "cell_type": "code",
   "execution_count": 7,
   "source": [
    "%%timeit\r\n",
    "mz = []\r\n",
    "intensity = []\r\n",
    "for i in range(100000):\r\n",
    "    omz = np.random.rand(100)\r\n",
    "    ointensity = func(omz, 1,2,3)\r\n",
    "    mz.append(omz)\r\n",
    "    intensity.append(ointensity)\r\n",
    "mz = np.concatenate(mz)\r\n",
    "intensity = np.concatenate(intensity)"
   ],
   "outputs": [
    {
     "output_type": "stream",
     "name": "stdout",
     "text": [
      "1.39 s ± 27.9 ms per loop (mean ± std. dev. of 7 runs, 1 loop each)\n"
     ]
    }
   ],
   "metadata": {}
  },
  {
   "cell_type": "markdown",
   "source": [
    "还是单独加个按钮好了计算量太大了喵，就写：plot peaks。放在actions里面"
   ],
   "metadata": {}
  }
 ],
 "metadata": {
  "orig_nbformat": 4,
  "language_info": {
   "name": "python",
   "version": "3.8.10",
   "mimetype": "text/x-python",
   "codemirror_mode": {
    "name": "ipython",
    "version": 3
   },
   "pygments_lexer": "ipython3",
   "nbconvert_exporter": "python",
   "file_extension": ".py"
  },
  "kernelspec": {
   "name": "python3",
   "display_name": "Python 3.8.10 64-bit ('spectra': conda)"
  },
  "interpreter": {
   "hash": "f0a73506094b050089f904142d0976470eebd6934fbf307aefbf7e74b90ec4fe"
  }
 },
 "nbformat": 4,
 "nbformat_minor": 2
}